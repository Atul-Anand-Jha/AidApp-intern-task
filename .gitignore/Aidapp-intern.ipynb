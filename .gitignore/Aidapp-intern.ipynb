{
 "cells": [
  {
   "cell_type": "code",
   "execution_count": 17,
   "metadata": {},
   "outputs": [],
   "source": [
    "def findMaxSubarraySum(arr, count, s):\n",
    "    # To store current sum and\n",
    "    # max sum of subarrays\n",
    "    curr_sum, max_sum, start = arr[0], 0, 0\n",
    "  \n",
    "    count= 0\n",
    "    # To find max_sum less than sum\n",
    "    for i in range(1, len(arr)):\n",
    "        count += 1\n",
    "        # If curr_sum becomes greater than\n",
    "        # sum subtract starting elements of array\n",
    "        while (curr_sum > s and start < i):\n",
    "            curr_sum -= arr[start]\n",
    "            start += 1\n",
    "  \n",
    "        # Update max_sum if it becomes\n",
    "        # greater than curr_sum\n",
    "        if(max_sum < curr_sum):\n",
    "            max_sum = curr_sum\n",
    "         \n",
    "        # Add elements to curr_sum\n",
    "        curr_sum += arr[i]\n",
    "         \n",
    "    # Adding an extra check for last subarray\n",
    "    if (curr_sum <= s):\n",
    "        if(max_sum < curr_sum):\n",
    "            max_sum = curr_sum\n",
    "  \n",
    "    return max_sum,count\n",
    "  \n",
    "count = 0\n",
    "s = 2000\n",
    " \n"
   ]
  },
  {
   "cell_type": "code",
   "execution_count": 16,
   "metadata": {
    "collapsed": true
   },
   "outputs": [],
   "source": [
    "from __future__ import with_statement #for python 3.6\n",
    "with open('input.txt', 'r') as f:\n",
    "    lines = f.readlines()"
   ]
  },
  {
   "cell_type": "code",
   "execution_count": 12,
   "metadata": {
    "collapsed": true
   },
   "outputs": [],
   "source": [
    "arr =[int(e.strip()) for e in lines]"
   ]
  },
  {
   "cell_type": "code",
   "execution_count": 13,
   "metadata": {},
   "outputs": [
    {
     "name": "stdout",
     "output_type": "stream",
     "text": [
      "(2000, 1000000)\n"
     ]
    }
   ],
   "source": [
    "print (findMaxSubarraySum(arr, count, s))"
   ]
  }
 ],
 "metadata": {
  "kernelspec": {
   "display_name": "Python 3",
   "language": "python",
   "name": "python3"
  },
  "language_info": {
   "codemirror_mode": {
    "name": "ipython",
    "version": 3
   },
   "file_extension": ".py",
   "mimetype": "text/x-python",
   "name": "python",
   "nbconvert_exporter": "python",
   "pygments_lexer": "ipython3",
   "version": "3.6.2"
  }
 },
 "nbformat": 4,
 "nbformat_minor": 2
}
